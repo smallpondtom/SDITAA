{
 "cells": [
  {
   "cell_type": "markdown",
   "metadata": {},
   "source": [
    "# How to get TLE data from [Space-Track.org](https://www.space-track.org/auth/login)"
   ]
  },
  {
   "cell_type": "markdown",
   "metadata": {},
   "source": [
    "### Using Selenium"
   ]
  },
  {
   "cell_type": "markdown",
   "metadata": {},
   "source": [
    "Before you start make sure that you have ChromeDriver on your computer \n",
    "if in case you do not download it from this [link](https://sites.google.com/a/chromium.org/chromedriver/home). <br>\n",
    "Then add this chromedriver.exe to your PATH."
   ]
  },
  {
   "cell_type": "code",
   "execution_count": 1,
   "metadata": {},
   "outputs": [],
   "source": [
    "# Import necessary modules \n",
    "\n",
    "from selenium import webdriver\n",
    "import numpy as np\n",
    "import pandas as pd\n",
    "import re "
   ]
  },
  {
   "cell_type": "code",
   "execution_count": 13,
   "metadata": {},
   "outputs": [],
   "source": [
    "# Create a chrome driver that automates the chrome webbrowser operations\n",
    "\n",
    "driver = webdriver.Chrome()\n",
    "\n",
    "# Open Space-Track.org login page with the url \n",
    "space_track_url = 'https://www.space-track.org/auth/login'\n",
    "driver.get(space_track_url)\n",
    "\n",
    "# Assert for any errors concerning the url of the login page \n",
    "assert 'space' or 'track' in driver.title, 'Improper url for Space-Track.org'"
   ]
  },
  {
   "cell_type": "code",
   "execution_count": 13,
   "metadata": {},
   "outputs": [],
   "source": [
    "# Enter the users Space-Track.org username and password manually \n",
    "\n",
    "# un = input('Enter your username -> ')\n",
    "# pw = input('Enter your password -> ')\n",
    "un = 'smallpond.eng.tom@gmail.com'\n",
    "pw = 'svG*kfr6LB5zUyL'"
   ]
  },
  {
   "cell_type": "code",
   "execution_count": 13,
   "metadata": {},
   "outputs": [],
   "source": [
    "# Enter username\n",
    "username = driver.find_element_by_id('identity')\n",
    "username.clear()\n",
    "username.send_keys(un)\n",
    "\n",
    "# Enter password \n",
    "password = driver.find_element_by_id('password')\n",
    "password.clear()\n",
    "password.send_keys(pw)\n",
    "\n",
    "# Click the login button \n",
    "driver.find_element_by_name('btnLogin').click()\n",
    "\n",
    "# Click the tab for Recent TLEs \n",
    "\n",
    "recent_TLE_url = '#recent'\n",
    "driver.find_element_by_xpath('//a[@href=\"'+recent_TLE_url+'\"]').click()\n",
    "\n",
    "# Openning the TLe data page \n",
    "\n",
    "TLE_data_url = \"https://www.space-track.org/basicspacedata/query/class/tle_latest/ORDINAL/1/EPOCH/%3Enow-30/orderby/NORAD_CAT_ID/format/tle\"\n",
    "driver.find_element_by_xpath('//a[@href=\"'+TLE_data_url+'\"]').click()\n",
    "\n",
    "# Switch driver to the new tab\n",
    "\n",
    "driver.switch_to.window(driver.window_handles[1])"
   ]
  },
  {
   "cell_type": "code",
   "execution_count": 14,
   "metadata": {},
   "outputs": [
    {
     "data": {
      "text/plain": [
       "'https://www.space-track.org/basicspacedata/query/class/tle_latest/ORDINAL/1/EPOCH/%3Enow-30/orderby/NORAD_CAT_ID/format/tle'"
      ]
     },
     "execution_count": 14,
     "metadata": {},
     "output_type": "execute_result"
    }
   ],
   "source": [
    "# Check that the driver is on the right tab\n",
    "\n",
    "driver.current_url"
   ]
  },
  {
   "cell_type": "code",
   "execution_count": 70,
   "metadata": {},
   "outputs": [],
   "source": [
    "# Get the data\n",
    "\n",
    "data_text = driver.find_element_by_xpath(\"//body/pre\").text\n",
    "\n",
    "# Split the text by newlines \n",
    "\n",
    "text_by_line = data_text.splitlines()"
   ]
  },
  {
   "cell_type": "markdown",
   "metadata": {},
   "source": [
    "### Using Requests"
   ]
  },
  {
   "cell_type": "code",
   "execution_count": 2,
   "metadata": {},
   "outputs": [],
   "source": [
    "import requests\n",
    "from bs4 import BeautifulSoup as bs"
   ]
  },
  {
   "cell_type": "code",
   "execution_count": 43,
   "metadata": {},
   "outputs": [],
   "source": [
    "# What is the login page\n",
    "\n",
    "url = 'https://www.space-track.org/'\n",
    "login_route = 'auth/login'\n",
    "\n",
    "HEADERS = {\n",
    "    'User-Agent': 'Mozilla/5.0 (Windows NT 10.0; Win64; x64) AppleWebKit/537.36 (KHTML, like Gecko) Chrome/84.0.4147.89 Safari/537.36',\n",
    "    'Accept': 'text/html,application/xhtml+xml,application/xml;q=0.9,image/webp,image/apng,*/*;q=0.8,application/signed-exchange;v=b3;q=0.9'\n",
    "}\n"
   ]
  },
  {
   "cell_type": "code",
   "execution_count": null,
   "metadata": {},
   "outputs": [],
   "source": [
    "# Enter the users Space-Track.org username and password manually \n",
    "\n",
    "# un = input('Enter your username -> ')\n",
    "# pw = input('Enter your password -> ')\n",
    "un = 'smallpond.eng.tom@gmail.com'\n",
    "pw = 'svG*kfr6LB5zUyL'"
   ]
  },
  {
   "cell_type": "code",
   "execution_count": 69,
   "metadata": {},
   "outputs": [],
   "source": [
    "# Get the HTML that we want \n",
    "\n",
    "with requests.session() as client:\n",
    "    # Get csrftoken\n",
    "    cookiejar = client.get(url + login_route).cookies\n",
    "    cookies = cookiejar.get_dict(domain='www.space-track.org') \n",
    "    cookie = cookies['spacetrack_csrf_cookie']  \n",
    "    \n",
    "    # What you have to enter to login \n",
    "    login_payload = {\n",
    "        'spacetrack_csrf_token': cookie,\n",
    "        'identity': un,\n",
    "        'password': pw,\n",
    "        'btnLogin': 'LOGIN'\n",
    "    }\n",
    "    \n",
    "    # Post the data to login \n",
    "    login_request = client.post(url + login_route, headers=HEADERS, data=login_payload)\n",
    "    \n",
    "    # Check if we are logged in or not \n",
    "    assert login_request.status_code == 200, 'Not logged in.'  \n",
    "    cookies = login_request.cookies  # save the cookies for the login \n",
    "    \n",
    "    # Use beautiful soup to extract the HTML that we want \n",
    "    soup = bs(client.get(url).text, 'html.parser')\n",
    "    target_div = soup.find('div', {'id':'recent'})\n",
    "    \n",
    "    # Get all the href \n",
    "    hrefs = []\n",
    "    for a in target_div.find_all('a', href=True):\n",
    "        hrefs.append(a['href'])\n",
    "        \n",
    "    resp = client.get(hrefs[1])\n",
    "    TLE_data_1string = str(resp.text)"
   ]
  },
  {
   "cell_type": "code",
   "execution_count": 70,
   "metadata": {},
   "outputs": [],
   "source": [
    "# Split the long string by newlines and make it an array of strings \n",
    "\n",
    "TLE_data = TLE_data_1string.splitlines()"
   ]
  }
 ],
 "metadata": {
  "kernelspec": {
   "display_name": "Python 3",
   "language": "python",
   "name": "python3"
  },
  "language_info": {
   "codemirror_mode": {
    "name": "ipython",
    "version": 3
   },
   "file_extension": ".py",
   "mimetype": "text/x-python",
   "name": "python",
   "nbconvert_exporter": "python",
   "pygments_lexer": "ipython3",
   "version": "3.7.6"
  }
 },
 "nbformat": 4,
 "nbformat_minor": 4
}

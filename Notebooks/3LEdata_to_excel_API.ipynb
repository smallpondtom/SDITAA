{
 "cells": [
  {
   "cell_type": "markdown",
   "metadata": {},
   "source": [
    "# Creating excel file from the 3LE data using the Space-Track.org API"
   ]
  },
  {
   "cell_type": "markdown",
   "metadata": {},
   "source": [
    "##  This reqiures to login using request and sending a query to the API to fetch the data "
   ]
  },
  {
   "cell_type": "code",
   "execution_count": 10,
   "metadata": {},
   "outputs": [],
   "source": [
    "import requests\n",
    "from bs4 import BeautifulSoup as bs\n",
    "import json\n",
    "import pandas as pd"
   ]
  },
  {
   "cell_type": "code",
   "execution_count": 3,
   "metadata": {},
   "outputs": [],
   "source": [
    "# What is the login page\n",
    "\n",
    "url = 'https://www.space-track.org/'\n",
    "login_route = 'auth/login'\n",
    "\n",
    "HEADERS = {\n",
    "    'User-Agent': 'Mozilla/5.0 (Windows NT 10.0; Win64; x64) AppleWebKit/537.36 (KHTML, like Gecko) Chrome/84.0.4147.89 Safari/537.36',\n",
    "    'Accept': 'text/html,application/xhtml+xml,application/xml;q=0.9,image/webp,image/apng,*/*;q=0.8,application/signed-exchange;v=b3;q=0.9'\n",
    "}\n"
   ]
  },
  {
   "cell_type": "code",
   "execution_count": 4,
   "metadata": {},
   "outputs": [
    {
     "name": "stdin",
     "output_type": "stream",
     "text": [
      "Enter your username ->  smallpond.eng.tom@gmail.com\n",
      "Enter your password ->  svG*kfr6LB5zUyL\n"
     ]
    }
   ],
   "source": [
    "# Enter the users Space-Track.org username and password manually \n",
    "\n",
    "un = input('Enter your username -> ')\n",
    "pw = input('Enter your password -> ')"
   ]
  },
  {
   "cell_type": "code",
   "execution_count": 7,
   "metadata": {},
   "outputs": [],
   "source": [
    "# Get the HTML that we want \n",
    "\n",
    "with requests.session() as client:\n",
    "    # Get csrftoken\n",
    "    cookiejar = client.get(url + login_route).cookies\n",
    "    cookies = cookiejar.get_dict(domain='www.space-track.org') \n",
    "    cookie = cookies['spacetrack_csrf_cookie']  \n",
    "    \n",
    "    # What you have to enter to login \n",
    "    login_payload = {\n",
    "        'spacetrack_csrf_token': cookie,\n",
    "        'identity': un,\n",
    "        'password': pw,\n",
    "        'btnLogin': 'LOGIN'\n",
    "    }\n",
    "    \n",
    "    # Post the data to login \n",
    "    login_request = client.post(url + login_route, headers=HEADERS, data=login_payload)\n",
    "    \n",
    "    # Check if we are logged in or not \n",
    "    assert login_request.status_code == 200, 'Not logged in.'  \n",
    "    cookies = login_request.cookies  # save the cookies for the login \n",
    "    \n",
    "    # Use beautiful soup to extract the HTML that we want \n",
    "    api_query = 'https://www.space-track.org/basicspacedata/query/class/gp/EPOCH/%3Enow-30/orderby/NORAD_CAT_ID,EPOCH/format/json'\n",
    "    TLE_data_response = client.get(api_query) "
   ]
  },
  {
   "cell_type": "code",
   "execution_count": 32,
   "metadata": {},
   "outputs": [],
   "source": [
    "# Convert the json data to a csv\n",
    "\n",
    "TLE_data_json = json.loads(TLE_data_response.text)"
   ]
  },
  {
   "cell_type": "code",
   "execution_count": 33,
   "metadata": {},
   "outputs": [],
   "source": [
    "# Remove the TLE string lines inside the data that hinders the program from converting the data to an excel file \n",
    "\n",
    "# Function to be mapped to delete unnecessary keys inside each dictionary inside the list \n",
    "def remove_TLE_keys(data_dict):\n",
    "    del data_dict['TLE_LINE0']\n",
    "    del data_dict['TLE_LINE1']\n",
    "    del data_dict['TLE_LINE2']\n",
    "    return data_dict\n",
    "\n",
    "# Remove a certain key insdie the dictionary which is inside a list\n",
    "TLE_data_json = map(remove_TLE_keys, TLE_data_json)"
   ]
  },
  {
   "cell_type": "code",
   "execution_count": 34,
   "metadata": {},
   "outputs": [],
   "source": [
    "# Map the operation for all the dictionaries inside the list \n",
    "TLE_data_modified_list = list(TLE_data_json)"
   ]
  },
  {
   "cell_type": "code",
   "execution_count": 36,
   "metadata": {},
   "outputs": [],
   "source": [
    "# Convert the list with dictionaries into a pandas dataframe and convert that to an excel file\n",
    "df = pd.DataFrame(TLE_data_modified_list)\n",
    "df.to_excel('TLE_data.xlsx')"
   ]
  }
 ],
 "metadata": {
  "kernelspec": {
   "display_name": "Python 3",
   "language": "python",
   "name": "python3"
  },
  "language_info": {
   "codemirror_mode": {
    "name": "ipython",
    "version": 3
   },
   "file_extension": ".py",
   "mimetype": "text/x-python",
   "name": "python",
   "nbconvert_exporter": "python",
   "pygments_lexer": "ipython3",
   "version": "3.7.6"
  }
 },
 "nbformat": 4,
 "nbformat_minor": 4
}
